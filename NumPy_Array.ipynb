{
 "cells": [
  {
   "cell_type": "code",
   "execution_count": 2,
   "metadata": {},
   "outputs": [
    {
     "name": "stdout",
     "output_type": "stream",
     "text": [
      "array([-1.,  2.,  5.], dtype=float32)\n"
     ]
    }
   ],
   "source": [
    "#import numpy\n",
    "import numpy as np\n",
    "\n",
    "#initialize a numpy array\n",
    "arr = np.array([-1,2,5], dtype = np.float32)\n",
    "print(repr(arr))"
   ]
  },
  {
   "cell_type": "code",
   "execution_count": 3,
   "metadata": {},
   "outputs": [
    {
     "name": "stdout",
     "output_type": "stream",
     "text": [
      "[[1. 2. 3.]\n",
      " [4. 5. 6.]]\n"
     ]
    }
   ],
   "source": [
    "#creates a 2D_matrix\n",
    "arr = np.array([[1,2,3], [4,5,6]], dtype = np.float32)\n",
    "print(arr)"
   ]
  },
  {
   "cell_type": "code",
   "execution_count": 4,
   "metadata": {},
   "outputs": [
    {
     "name": "stdout",
     "output_type": "stream",
     "text": [
      "[2.   8.   0.89 3.4 ]\n"
     ]
    }
   ],
   "source": [
    "#upcasting numpy upcast to the highest level type\n",
    "arr = np.array([2,8,0.89,3.4])\n",
    "print(arr)"
   ]
  },
  {
   "cell_type": "code",
   "execution_count": 5,
   "metadata": {},
   "outputs": [
    {
     "name": "stdout",
     "output_type": "stream",
     "text": [
      "['2' '8' '9' 'english']\n"
     ]
    }
   ],
   "source": [
    "arr = np.array([2, 8, 9, \"english\"])\n",
    "print(arr)"
   ]
  },
  {
   "cell_type": "code",
   "execution_count": 6,
   "metadata": {},
   "outputs": [
    {
     "name": "stdout",
     "output_type": "stream",
     "text": [
      "array([nan,  1.,  2.])\n",
      "array(['nan', 'abc'], dtype='<U32')\n"
     ]
    },
    {
     "ename": "ValueError",
     "evalue": "cannot convert float NaN to integer",
     "output_type": "error",
     "traceback": [
      "\u001b[0;31m---------------------------------------------------------------------------\u001b[0m",
      "\u001b[0;31mValueError\u001b[0m                                Traceback (most recent call last)",
      "\u001b[0;32m<ipython-input-6-4037ad316a39>\u001b[0m in \u001b[0;36m<module>\u001b[0;34m\u001b[0m\n\u001b[1;32m      7\u001b[0m \u001b[0;34m\u001b[0m\u001b[0m\n\u001b[1;32m      8\u001b[0m \u001b[0;31m# Will result in a ValueError\u001b[0m\u001b[0;34m\u001b[0m\u001b[0;34m\u001b[0m\u001b[0;34m\u001b[0m\u001b[0m\n\u001b[0;32m----> 9\u001b[0;31m \u001b[0mnp\u001b[0m\u001b[0;34m.\u001b[0m\u001b[0marray\u001b[0m\u001b[0;34m(\u001b[0m\u001b[0;34m[\u001b[0m\u001b[0mnp\u001b[0m\u001b[0;34m.\u001b[0m\u001b[0mnan\u001b[0m\u001b[0;34m,\u001b[0m \u001b[0;36m1\u001b[0m\u001b[0;34m,\u001b[0m \u001b[0;36m2\u001b[0m\u001b[0;34m]\u001b[0m\u001b[0;34m,\u001b[0m \u001b[0mdtype\u001b[0m\u001b[0;34m=\u001b[0m\u001b[0mnp\u001b[0m\u001b[0;34m.\u001b[0m\u001b[0mint32\u001b[0m\u001b[0;34m)\u001b[0m\u001b[0;34m\u001b[0m\u001b[0;34m\u001b[0m\u001b[0m\n\u001b[0m",
      "\u001b[0;31mValueError\u001b[0m: cannot convert float NaN to integer"
     ]
    }
   ],
   "source": [
    "#NaN only takes strings\n",
    "arr = np.array([np.nan, 1, 2])\n",
    "print(repr(arr))\n",
    "\n",
    "arr = np.array([np.nan, 'abc'])\n",
    "print(repr(arr))\n",
    "\n",
    "# Will result in a ValueError\n",
    "np.array([np.nan, 1, 2], dtype=np.int32)"
   ]
  },
  {
   "cell_type": "code",
   "execution_count": 8,
   "metadata": {},
   "outputs": [
    {
     "name": "stdout",
     "output_type": "stream",
     "text": [
      "array([10.,  2.,  3.,  4.,  5.])\n"
     ]
    }
   ],
   "source": [
    "#array from a list of integers and np.nan\n",
    "#as the first element and 2 to 5 inclusive as the second four elements\n",
    "arr = np.array([np.nan, 2,3,4,5])\n",
    "#copy arr to array2\n",
    "array2 = arr.copy()\n",
    "array2[0] = 10\n",
    "print(repr(array2))"
   ]
  },
  {
   "cell_type": "code",
   "execution_count": 13,
   "metadata": {},
   "outputs": [
    {
     "name": "stdout",
     "output_type": "stream",
     "text": [
      "array([1. , 5.4, 3. ], dtype=float32)\n"
     ]
    }
   ],
   "source": [
    "#Set float_arr equal to np.array applied to a list with elements 1, 5.4, and 3, in that order.\n",
    "\n",
    "#Set float_arr2 equal to arr2.astype, with argument np.float32.\n",
    "\n",
    "float_arr = np.array([1,5.4,3])\n",
    "float_arr2 = float_arr.astype(np.float32)\n",
    "print(repr(float_arr2))"
   ]
  },
  {
   "cell_type": "code",
   "execution_count": 16,
   "metadata": {},
   "outputs": [
    {
     "name": "stdout",
     "output_type": "stream",
     "text": [
      "array([[1., 2., 3.],\n",
      "       [4., 5., 6.]], dtype=float32)\n"
     ]
    }
   ],
   "source": [
    "#multi-dimensional array, specifically a 2-D matrix\n",
    "matrix = np.array([[1,2,3,], [4,5,6]], dtype = np.float32)\n",
    "print(repr(matrix))"
   ]
  },
  {
   "cell_type": "code",
   "execution_count": 17,
   "metadata": {},
   "outputs": [
    {
     "name": "stdout",
     "output_type": "stream",
     "text": [
      "array([0, 1, 2, 3, 4])\n",
      "array([5, 6, 7, 8])\n"
     ]
    }
   ],
   "source": [
    "#np.arange\n",
    "arr = np.arange(5)\n",
    "print(repr(arr))\n",
    "arr2 = np.arange(5, 9)\n",
    "print(repr(arr2))"
   ]
  },
  {
   "cell_type": "code",
   "execution_count": 20,
   "metadata": {},
   "outputs": [
    {
     "name": "stdout",
     "output_type": "stream",
     "text": [
      "array([ 5.,  7.,  9., 11., 13., 15.])\n",
      "array([ 6.        ,  6.20408163,  6.40816327,  6.6122449 ,  6.81632653,\n",
      "        7.02040816,  7.2244898 ,  7.42857143,  7.63265306,  7.83673469,\n",
      "        8.04081633,  8.24489796,  8.44897959,  8.65306122,  8.85714286,\n",
      "        9.06122449,  9.26530612,  9.46938776,  9.67346939,  9.87755102,\n",
      "       10.08163265, 10.28571429, 10.48979592, 10.69387755, 10.89795918,\n",
      "       11.10204082, 11.30612245, 11.51020408, 11.71428571, 11.91836735,\n",
      "       12.12244898, 12.32653061, 12.53061224, 12.73469388, 12.93877551,\n",
      "       13.14285714, 13.34693878, 13.55102041, 13.75510204, 13.95918367,\n",
      "       14.16326531, 14.36734694, 14.57142857, 14.7755102 , 14.97959184,\n",
      "       15.18367347, 15.3877551 , 15.59183673, 15.79591837, 16.        ])\n"
     ]
    }
   ],
   "source": [
    "#specify the number of elements in the returned array, \n",
    "arr = np.linspace(5,15, num = 6)\n",
    "print(repr(arr))\n",
    "arr2 = np.linspace(6, 16)\n",
    "print(repr(arr2))"
   ]
  },
  {
   "cell_type": "code",
   "execution_count": 26,
   "metadata": {},
   "outputs": [
    {
     "name": "stdout",
     "output_type": "stream",
     "text": [
      "[ 0  1  2  3  4  5  6  7  8  9 10 11]\n",
      "[[[ 0  1]\n",
      "  [ 2  3]\n",
      "  [ 4  5]]\n",
      "\n",
      " [[ 6  7]\n",
      "  [ 8  9]\n",
      "  [10 11]]]\n",
      "[ 0  1  2  3  4  5  6  7  8  9 10 11]\n",
      "[[[ 0  6]\n",
      "  [ 1  7]]\n",
      "\n",
      " [[ 2  8]\n",
      "  [ 3  9]]\n",
      "\n",
      " [[ 4 10]\n",
      "  [ 5 11]]]\n"
     ]
    }
   ],
   "source": [
    "#set arr equal to np.arange with 12 as the only argument.\n",
    "\n",
    "#set reshaped equal to np.reshape with arr as the first argument and (2, 3, 2) as the second argument.\n",
    "\n",
    "arr = np.arange(12)\n",
    "print(arr)\n",
    "arr2 = np.reshape(arr, (2,3,2))\n",
    "print(arr2)\n",
    "flattened = arr2.flatten()\n",
    "transposed = np.transpose(arr2, axes = (1,2,0))\n",
    "print(flattened)\n",
    "print(transposed)"
   ]
  },
  {
   "cell_type": "code",
   "execution_count": 28,
   "metadata": {},
   "outputs": [
    {
     "name": "stdout",
     "output_type": "stream",
     "text": [
      "[0. 0. 0. 0. 0.]\n",
      "[[[1 1]\n",
      "  [1 1]]\n",
      "\n",
      " [[1 1]\n",
      "  [1 1]]\n",
      "\n",
      " [[1 1]\n",
      "  [1 1]]]\n"
     ]
    }
   ],
   "source": [
    "zeros_arr = np.zeros(5)\n",
    "ones_arr = np.ones_like(transposed)\n",
    "print(zeros_arr)\n",
    "print(ones_arr)"
   ]
  },
  {
   "cell_type": "code",
   "execution_count": 29,
   "metadata": {},
   "outputs": [
    {
     "name": "stdout",
     "output_type": "stream",
     "text": [
      "array([[2, 3],\n",
      "       [4, 5]])\n"
     ]
    }
   ],
   "source": [
    "#maths perations\n",
    "arr = np.array([[1,2], [3,4]])\n",
    "print(repr(arr + 1))"
   ]
  },
  {
   "cell_type": "code",
   "execution_count": 30,
   "metadata": {},
   "outputs": [
    {
     "name": "stdout",
     "output_type": "stream",
     "text": [
      "array([[2, 3],\n",
      "       [4, 5]])\n",
      "array([[-0.2,  0.8],\n",
      "       [ 1.8,  2.8]])\n",
      "array([[2, 4],\n",
      "       [6, 8]])\n",
      "array([[0.5, 1. ],\n",
      "       [1.5, 2. ]])\n",
      "array([[0, 1],\n",
      "       [1, 2]])\n",
      "array([[ 1,  4],\n",
      "       [ 9, 16]])\n",
      "array([[1.        , 1.41421356],\n",
      "       [1.73205081, 2.        ]])\n"
     ]
    }
   ],
   "source": [
    "arr = np.array([[1, 2], [3, 4]])\n",
    "# Add 1 to element values\n",
    "print(repr(arr + 1))\n",
    "# Subtract element values by 1.2\n",
    "print(repr(arr - 1.2))\n",
    "# Double element values\n",
    "print(repr(arr * 2))\n",
    "# Halve element values\n",
    "print(repr(arr / 2))\n",
    "# Integer division (half)\n",
    "print(repr(arr // 2))\n",
    "# Square element values\n",
    "print(repr(arr**2))\n",
    "# Square root element values\n",
    "print(repr(arr**0.5))"
   ]
  },
  {
   "cell_type": "code",
   "execution_count": 31,
   "metadata": {},
   "outputs": [
    {
     "name": "stdout",
     "output_type": "stream",
     "text": [
      "[[-0.5  0.8 -0.1]\n",
      " [ 0.  -1.2  1.3]]\n",
      "[[1.2 3.1]\n",
      " [1.2 0.3]\n",
      " [1.5 2.2]]\n",
      "[[-1.57079633  2.51327412 -0.31415927]\n",
      " [ 0.         -3.76991118  4.08407045]]\n",
      "[[-2.07079633  3.31327412 -0.41415927]\n",
      " [ 0.         -4.96991118  5.38407045]]\n",
      "[[ 4.28819743 10.97778541  0.1715279 ]\n",
      " [ 0.         24.70001718 28.98821461]]\n",
      "[[7.28350596e+01 5.85587272e+04 1.18711726e+00]\n",
      " [1.00000000e+00 5.33434578e+10 3.88527393e+12]]\n",
      "[[ 0.18232156  1.13140211]\n",
      " [ 0.18232156 -1.2039728 ]\n",
      " [ 0.40546511  0.78845736]]\n"
     ]
    }
   ],
   "source": [
    "arr = np.array([[-0.5,0.8,-0.1], [0.0,-1.2,1.3]])\n",
    "arr2 = np.array([[1.2,3.1], [1.2,0.3], [1.5,2.2]])\n",
    "print(arr)\n",
    "print(arr2)\n",
    "multiplied = arr * np.pi\n",
    "added = (arr + multiplied)\n",
    "squared = added **2\n",
    "print(multiplied)\n",
    "print(added)\n",
    "print(squared)\n",
    "exponential = np.exp(squared)\n",
    "logged = np.log(arr2)\n",
    "print(exponential)\n",
    "print(logged)\n"
   ]
  },
  {
   "cell_type": "code",
   "execution_count": 32,
   "metadata": {},
   "outputs": [
    {
     "name": "stdout",
     "output_type": "stream",
     "text": [
      "[[ 1.44108036e+01  6.03529115e+10  4.39580713e+12]\n",
      " [ 1.20754286e+01 -6.42240618e+10 -4.67776415e+12]\n",
      " [ 3.03205327e+01  4.20590657e+10  3.06337283e+12]]\n",
      "[[ 1.06902790e+04 -7.04197733e+04]\n",
      " [ 1.58506868e+12  2.99914875e+12]]\n"
     ]
    }
   ],
   "source": [
    "matmul1 = np.matmul(logged, exponential)\n",
    "matmul2 = np.matmul(exponential, logged)\n",
    "print(matmul1)\n",
    "print(matmul2)"
   ]
  },
  {
   "cell_type": "code",
   "execution_count": 33,
   "metadata": {},
   "outputs": [
    {
     "name": "stdout",
     "output_type": "stream",
     "text": [
      "3\n",
      "[[6 3 9 5 6]\n",
      " [8 8 6 4 8]\n",
      " [3 6 3 6 5]]\n"
     ]
    }
   ],
   "source": [
    "#Set random1 equal to np.random.randint with 5 as the only argument.\n",
    "\n",
    "#set random_arr equal to np.random.randint with 3 as the first argument, 10 as the high keyword argument, and (3, 5) as the size keyword argument\\\n",
    "\n",
    "random1 = np.random.randint(5)\n",
    "random_arr = np.random.randint(3, high = 10, size = (3,5))\n",
    "print(random1)\n",
    "print(random_arr)"
   ]
  },
  {
   "cell_type": "code",
   "execution_count": 34,
   "metadata": {},
   "outputs": [
    {
     "name": "stdout",
     "output_type": "stream",
     "text": [
      "a\n"
     ]
    }
   ],
   "source": [
    "choices = [\"a\", \"b\", \"c\", \"d\"]\n",
    "choice = np.random.choice(choices, p = [0.5, 0.1, 0.2, 0.2])\n",
    "print(choice)"
   ]
  },
  {
   "cell_type": "code",
   "execution_count": 35,
   "metadata": {},
   "outputs": [
    {
     "name": "stdout",
     "output_type": "stream",
     "text": [
      "[1 3 2 4 5]\n"
     ]
    }
   ],
   "source": [
    "arr = np.array([1,2,3,4,5])\n",
    "np.random.shuffle(arr)\n",
    "print(arr)"
   ]
  },
  {
   "cell_type": "code",
   "execution_count": null,
   "metadata": {},
   "outputs": [],
   "source": []
  }
 ],
 "metadata": {
  "kernelspec": {
   "display_name": "Python 3",
   "language": "python",
   "name": "python3"
  },
  "language_info": {
   "codemirror_mode": {
    "name": "ipython",
    "version": 3
   },
   "file_extension": ".py",
   "mimetype": "text/x-python",
   "name": "python",
   "nbconvert_exporter": "python",
   "pygments_lexer": "ipython3",
   "version": "3.6.9"
  }
 },
 "nbformat": 4,
 "nbformat_minor": 4
}
